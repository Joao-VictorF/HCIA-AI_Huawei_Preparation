{
  "nbformat": 4,
  "nbformat_minor": 0,
  "metadata": {
    "colab": {
      "name": "Lab 01 - Exercises_Review_of_Python.ipynb",
      "provenance": [],
      "collapsed_sections": [],
      "include_colab_link": true
    },
    "kernelspec": {
      "name": "python3",
      "display_name": "Python 3"
    }
  },
  "cells": [
    {
      "cell_type": "markdown",
      "metadata": {
        "id": "view-in-github",
        "colab_type": "text"
      },
      "source": [
        "<a href=\"https://colab.research.google.com/github/Joao-VictorF/HCIA-AI_Huawei_Preparation/blob/main/Lab_01_Exercises_Review_of_Python.ipynb\" target=\"_parent\"><img src=\"https://colab.research.google.com/assets/colab-badge.svg\" alt=\"Open In Colab\"/></a>"
      ]
    },
    {
      "cell_type": "markdown",
      "metadata": {
        "id": "412snEVYbZix"
      },
      "source": [
        "#Exercises\n",
        "\n",
        "Complete the tasks outlined in bold below, use the specific method described if applicable. The correct outputs are given as comments."
      ]
    },
    {
      "cell_type": "markdown",
      "metadata": {
        "id": "v5a3KCQYbw5O"
      },
      "source": [
        "**1. Split this string:**\n",
        "\n",
        "    s = \"Hi there Sam!\"\n",
        "    \n",
        "**into a list.**"
      ]
    },
    {
      "cell_type": "code",
      "metadata": {
        "id": "nQARxf6qbzsy"
      },
      "source": [
        "s = \"Hi there Sam!\""
      ],
      "execution_count": 2,
      "outputs": []
    },
    {
      "cell_type": "code",
      "metadata": {
        "id": "yrZ_29FHcE48"
      },
      "source": [
        "\n",
        "# Output: ['Hi', 'there', 'Sam!']"
      ],
      "execution_count": 3,
      "outputs": []
    },
    {
      "cell_type": "markdown",
      "metadata": {
        "id": "4dCxnvglwOPM"
      },
      "source": [
        "Resolution:"
      ]
    },
    {
      "cell_type": "code",
      "metadata": {
        "colab": {
          "base_uri": "https://localhost:8080/"
        },
        "id": "9laegXI8vRpA",
        "outputId": "f6ef1078-b26d-4239-e23f-35223aba4e44"
      },
      "source": [
        "print(s.split(' '))"
      ],
      "execution_count": 4,
      "outputs": [
        {
          "output_type": "stream",
          "text": [
            "['Hi', 'there', 'Sam!']\n"
          ],
          "name": "stdout"
        }
      ]
    },
    {
      "cell_type": "markdown",
      "metadata": {
        "id": "OXt-eHdbb932"
      },
      "source": [
        "**2. Given the variables:**\n",
        "\n",
        "    planet = \"Earth\"\n",
        "    diameter = 12742\n",
        "\n",
        "**Use .format() to print the following string:**\n",
        "\n",
        "    The diameter of Earth is 12742 kilometers."
      ]
    },
    {
      "cell_type": "code",
      "metadata": {
        "id": "G4SeLTObb-ni"
      },
      "source": [
        "planet = \"Earth\"\n",
        "diameter = 12742"
      ],
      "execution_count": 7,
      "outputs": []
    },
    {
      "cell_type": "code",
      "metadata": {
        "id": "E3vULfXMcQns"
      },
      "source": [
        "\n",
        "# Output: The diameter of Earth is 12742 kilometers."
      ],
      "execution_count": null,
      "outputs": []
    },
    {
      "cell_type": "markdown",
      "metadata": {
        "id": "kpnaNnOGwYZ0"
      },
      "source": [
        "Resolution:"
      ]
    },
    {
      "cell_type": "code",
      "metadata": {
        "colab": {
          "base_uri": "https://localhost:8080/"
        },
        "id": "Yzm-VFurvjAR",
        "outputId": "d7014640-b8eb-4b40-aa1e-2b54a3b0a73d"
      },
      "source": [
        "text = \"The diameter of {planet} is {diameter} kilometers\".format(planet = planet, diameter = diameter)\r\n",
        "print(text)"
      ],
      "execution_count": 10,
      "outputs": [
        {
          "output_type": "stream",
          "text": [
            "The diameter of Earth is 12742 kilometers\n"
          ],
          "name": "stdout"
        }
      ]
    },
    {
      "cell_type": "markdown",
      "metadata": {
        "id": "Jn3LrqHocwmj"
      },
      "source": [
        "**3. Create a function that grabs the email website domain from a string in the form:**\n",
        "\n",
        "    user@domain.com\n",
        "    \n",
        "**So for example, passing \"user@domain.com\" would return: domain.com**"
      ]
    },
    {
      "cell_type": "code",
      "metadata": {
        "id": "4GynBoaYcxIJ"
      },
      "source": [
        "def domain_get(email):\n",
        "    # Your Code Here!"
      ],
      "execution_count": null,
      "outputs": []
    },
    {
      "cell_type": "code",
      "metadata": {
        "id": "TiZPSZQeczla"
      },
      "source": [
        "domain_get('user@domain.com')\n",
        "# output: 'domain.com'"
      ],
      "execution_count": null,
      "outputs": []
    },
    {
      "cell_type": "code",
      "metadata": {
        "colab": {
          "base_uri": "https://localhost:8080/"
        },
        "id": "6ghTBkBjwIUI",
        "outputId": "22d6cd6e-3918-4026-bf81-39ab603421ec"
      },
      "source": [
        "def domain_get(email):\r\n",
        "    print(email.split('@')[1])\r\n",
        "\r\n",
        "domain_get('user@domain.com')\r\n",
        "domain_get('user@gmail.com')"
      ],
      "execution_count": 12,
      "outputs": [
        {
          "output_type": "stream",
          "text": [
            "domain.com\n"
          ],
          "name": "stdout"
        }
      ]
    },
    {
      "cell_type": "markdown",
      "metadata": {
        "id": "IqE2f4Iec5a_"
      },
      "source": [
        "**4. Use lambda expressions and the filter() function to filter out words from a list that don't start with the letter 's'. For example:**\n",
        "\n",
        "    seq = ['soup','dog','salad','cat','great']\n",
        "\n",
        "**should be filtered down to:**\n",
        "\n",
        "    ['soup','salad']"
      ]
    },
    {
      "cell_type": "code",
      "metadata": {
        "id": "WhKAh_Uzc8nk"
      },
      "source": [
        "seq = ['soup','dog','salad','cat','great']"
      ],
      "execution_count": 13,
      "outputs": []
    },
    {
      "cell_type": "code",
      "metadata": {
        "id": "WXB9R7Hbc--3"
      },
      "source": [
        "\n",
        "# output: ['soup', 'salad']"
      ],
      "execution_count": null,
      "outputs": []
    },
    {
      "cell_type": "markdown",
      "metadata": {
        "id": "yxMKU6sbwbW9"
      },
      "source": [
        "Resolution:"
      ]
    },
    {
      "cell_type": "code",
      "metadata": {
        "colab": {
          "base_uri": "https://localhost:8080/"
        },
        "id": "gab3kXD9wy3v",
        "outputId": "62678459-868a-4534-9fb1-80c149f5c03c"
      },
      "source": [
        "lbd = lambda arr : list(filter(lambda x : list(x)[0] == 's', arr))\r\n",
        "\r\n",
        "result = lbd(seq)\r\n",
        "print(result)\r\n",
        "\r\n",
        "arr = ['soup','soul','salad','cat','sunshine']\r\n",
        "result = lbd(arr)\r\n",
        "print(result)"
      ],
      "execution_count": 42,
      "outputs": [
        {
          "output_type": "stream",
          "text": [
            "['soup', 'salad']\n",
            "['soup', 'soul', 'salad', 'sunshine']\n"
          ],
          "name": "stdout"
        }
      ]
    },
    {
      "cell_type": "markdown",
      "metadata": {
        "id": "o4d8aYWrdDmC"
      },
      "source": [
        "**5. Write a function to return one of 3 possible results: \"No ticket\", \"Small ticket\", or \"Big Ticket\". If your speed is 60 or less, the result is \"No Ticket\". If speed is between 61 and 80 inclusive, the result is \"Small Ticket\". If speed is 81 or more, the result is \"Big Ticket\".**"
      ]
    },
    {
      "cell_type": "code",
      "metadata": {
        "id": "7I4Z0n0MdFkP"
      },
      "source": [
        "def caught_speeding(speed):\n",
        "    # Your code here!"
      ],
      "execution_count": null,
      "outputs": []
    },
    {
      "cell_type": "code",
      "metadata": {
        "id": "QyIuG2FedHH0"
      },
      "source": [
        "caught_speeding(65)\n",
        "# output: 'Small Ticket'"
      ],
      "execution_count": null,
      "outputs": []
    },
    {
      "cell_type": "code",
      "metadata": {
        "id": "ghUvQlrxdI4U"
      },
      "source": [
        "caught_speeding(82)\n",
        "# output: 'Big Ticket'"
      ],
      "execution_count": null,
      "outputs": []
    },
    {
      "cell_type": "markdown",
      "metadata": {
        "id": "VDDt9GBz0hDe"
      },
      "source": [
        "Resolution:"
      ]
    },
    {
      "cell_type": "code",
      "metadata": {
        "colab": {
          "base_uri": "https://localhost:8080/"
        },
        "id": "dHA-SCWH01Qx",
        "outputId": "5e0192c2-36eb-4e48-e0cf-42c5c3f4e5a3"
      },
      "source": [
        "def caught_speeding(speed):\r\n",
        "  if speed <= 60: print('No Ticket')\r\n",
        "  elif speed >= 61 and speed <= 81: print ('Small Ticket')\r\n",
        "  else: print('Big Ticket')\r\n",
        "  \r\n",
        "caught_speeding(40)\r\n",
        "caught_speeding(65)\r\n",
        "caught_speeding(82)"
      ],
      "execution_count": 51,
      "outputs": [
        {
          "output_type": "stream",
          "text": [
            "No Ticket\n",
            "Small Ticket\n",
            "Big Ticket\n"
          ],
          "name": "stdout"
        }
      ]
    }
  ]
}