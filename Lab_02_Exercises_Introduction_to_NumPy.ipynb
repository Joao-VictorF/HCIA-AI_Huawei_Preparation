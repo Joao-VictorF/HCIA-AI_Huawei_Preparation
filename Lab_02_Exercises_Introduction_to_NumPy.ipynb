{
  "nbformat": 4,
  "nbformat_minor": 0,
  "metadata": {
    "anaconda-cloud": {},
    "kernelspec": {
      "display_name": "Python 3",
      "language": "python",
      "name": "python3"
    },
    "language_info": {
      "codemirror_mode": {
        "name": "ipython",
        "version": 3
      },
      "file_extension": ".py",
      "mimetype": "text/x-python",
      "name": "python",
      "nbconvert_exporter": "python",
      "pygments_lexer": "ipython3",
      "version": "3.7.4"
    },
    "colab": {
      "name": "Lab 02 - Exercises - Introduction_to_NumPy.ipynb",
      "provenance": [],
      "collapsed_sections": [],
      "include_colab_link": true
    }
  },
  "cells": [
    {
      "cell_type": "markdown",
      "metadata": {
        "id": "view-in-github",
        "colab_type": "text"
      },
      "source": [
        "<a href=\"https://colab.research.google.com/github/Joao-VictorF/HCIA-AI_Huawei_Preparation/blob/main/Lab_02_Exercises_Introduction_to_NumPy.ipynb\" target=\"_parent\"><img src=\"https://colab.research.google.com/assets/colab-badge.svg\" alt=\"Open In Colab\"/></a>"
      ]
    },
    {
      "cell_type": "markdown",
      "metadata": {
        "id": "Buy1HADaJwFe"
      },
      "source": [
        "#Exercises"
      ]
    },
    {
      "cell_type": "markdown",
      "metadata": {
        "id": "ibUfXifbJwFf"
      },
      "source": [
        "#### 1. Import NumPy as np"
      ]
    },
    {
      "cell_type": "code",
      "metadata": {
        "id": "el2g_OVxJwFh"
      },
      "source": [
        "import numpy as np"
      ],
      "execution_count": 1,
      "outputs": []
    },
    {
      "cell_type": "markdown",
      "metadata": {
        "id": "OdEpxzfTJwFk"
      },
      "source": [
        "#### 2. Create an array of 10 zeros "
      ]
    },
    {
      "cell_type": "code",
      "metadata": {
        "id": "GqUZn9nHJwFm",
        "colab": {
          "base_uri": "https://localhost:8080/"
        },
        "outputId": "12517e49-a526-4955-a3df-3113e81f4545"
      },
      "source": [
        "np.zeros(10)\n",
        "# output: array([0., 0., 0., 0., 0., 0., 0., 0., 0., 0.])"
      ],
      "execution_count": 2,
      "outputs": [
        {
          "output_type": "execute_result",
          "data": {
            "text/plain": [
              "array([0., 0., 0., 0., 0., 0., 0., 0., 0., 0.])"
            ]
          },
          "metadata": {
            "tags": []
          },
          "execution_count": 2
        }
      ]
    },
    {
      "cell_type": "markdown",
      "metadata": {
        "id": "m382-javJwFq"
      },
      "source": [
        "#### 3. Create an array of 10 ones"
      ]
    },
    {
      "cell_type": "code",
      "metadata": {
        "id": "new6jSk5JwFq",
        "colab": {
          "base_uri": "https://localhost:8080/"
        },
        "outputId": "2be7057e-1aa8-4577-d2be-bb90a8191d1e"
      },
      "source": [
        "np.ones(10)\n",
        "# output: array([1., 1., 1., 1., 1., 1., 1., 1., 1., 1.])"
      ],
      "execution_count": 3,
      "outputs": [
        {
          "output_type": "execute_result",
          "data": {
            "text/plain": [
              "array([1., 1., 1., 1., 1., 1., 1., 1., 1., 1.])"
            ]
          },
          "metadata": {
            "tags": []
          },
          "execution_count": 3
        }
      ]
    },
    {
      "cell_type": "markdown",
      "metadata": {
        "id": "ApZ5Oi6_JwFs"
      },
      "source": [
        "#### 4. Create an array of 10 fives"
      ]
    },
    {
      "cell_type": "code",
      "metadata": {
        "id": "qKNaFF7gJwFt",
        "colab": {
          "base_uri": "https://localhost:8080/"
        },
        "outputId": "158cd757-e740-46c2-a0d7-1cb13c1803ce"
      },
      "source": [
        "np.ones(10) + 4\n",
        "\n",
        "# output: array([5., 5., 5., 5., 5., 5., 5., 5., 5., 5.])"
      ],
      "execution_count": 5,
      "outputs": [
        {
          "output_type": "execute_result",
          "data": {
            "text/plain": [
              "array([5., 5., 5., 5., 5., 5., 5., 5., 5., 5.])"
            ]
          },
          "metadata": {
            "tags": []
          },
          "execution_count": 5
        }
      ]
    },
    {
      "cell_type": "markdown",
      "metadata": {
        "id": "JBKYjEnyJwFu"
      },
      "source": [
        "#### 5. Create an array of the integers from 10 to 50"
      ]
    },
    {
      "cell_type": "code",
      "metadata": {
        "id": "z7yIqTFDJwFu",
        "colab": {
          "base_uri": "https://localhost:8080/"
        },
        "outputId": "e375e950-50ee-45ad-9d7a-cbfe327c07fc"
      },
      "source": [
        "np.arange(10, 51)\n",
        "# output: array([10, 11, 12, 13, 14, 15, 16, 17, 18, 19, 20, 21, 22, 23, 24, 25, 26,\n",
        "#                27, 28, 29, 30, 31, 32, 33, 34, 35, 36, 37, 38, 39, 40, 41, 42, 43,\n",
        "#                44, 45, 46, 47, 48, 49, 50])"
      ],
      "execution_count": 7,
      "outputs": [
        {
          "output_type": "execute_result",
          "data": {
            "text/plain": [
              "array([10, 11, 12, 13, 14, 15, 16, 17, 18, 19, 20, 21, 22, 23, 24, 25, 26,\n",
              "       27, 28, 29, 30, 31, 32, 33, 34, 35, 36, 37, 38, 39, 40, 41, 42, 43,\n",
              "       44, 45, 46, 47, 48, 49, 50])"
            ]
          },
          "metadata": {
            "tags": []
          },
          "execution_count": 7
        }
      ]
    },
    {
      "cell_type": "markdown",
      "metadata": {
        "id": "5HvS_BR-JwFw"
      },
      "source": [
        "#### 6. Create an array of all the even integers from 10 to 50"
      ]
    },
    {
      "cell_type": "code",
      "metadata": {
        "collapsed": true,
        "id": "bYcqCPlmJwFx",
        "colab": {
          "base_uri": "https://localhost:8080/"
        },
        "outputId": "321d7c54-2228-47cc-ab71-47d73db5b57b"
      },
      "source": [
        "np.arange(10, 51, 2)\n",
        "# outout: array([10, 12, 14, 16, 18, 20, 22, 24, 26, 28, 30, 32, 34, 36, 38, 40, 42,\n",
        "#                44, 46, 48, 50])"
      ],
      "execution_count": 8,
      "outputs": [
        {
          "output_type": "execute_result",
          "data": {
            "text/plain": [
              "array([10, 12, 14, 16, 18, 20, 22, 24, 26, 28, 30, 32, 34, 36, 38, 40, 42,\n",
              "       44, 46, 48, 50])"
            ]
          },
          "metadata": {
            "tags": []
          },
          "execution_count": 8
        }
      ]
    },
    {
      "cell_type": "markdown",
      "metadata": {
        "id": "8DJvVYj-JwFz"
      },
      "source": [
        "#### 7. Create a 3x3 matrix with values ranging from 0 to 8"
      ]
    },
    {
      "cell_type": "code",
      "metadata": {
        "id": "i18_7C9-JwF1",
        "colab": {
          "base_uri": "https://localhost:8080/"
        },
        "outputId": "be8d7cdf-851c-4f74-c89d-e01a7a4ebfab"
      },
      "source": [
        "np.random.randint(0, 8, (3, 3)) #start, end, (rows, cols)\n",
        "# output: array([[0, 1, 2],\n",
        "#               [3, 4, 5],\n",
        "#               [6, 7, 8]])"
      ],
      "execution_count": 11,
      "outputs": [
        {
          "output_type": "execute_result",
          "data": {
            "text/plain": [
              "array([[7, 6, 4],\n",
              "       [7, 7, 5],\n",
              "       [6, 6, 3]])"
            ]
          },
          "metadata": {
            "tags": []
          },
          "execution_count": 11
        }
      ]
    },
    {
      "cell_type": "markdown",
      "metadata": {
        "id": "vru5nfxgJwF3"
      },
      "source": [
        "#### 8. Create a 3x3 identity matrix"
      ]
    },
    {
      "cell_type": "code",
      "metadata": {
        "id": "jK4pBDiOJwF3",
        "colab": {
          "base_uri": "https://localhost:8080/"
        },
        "outputId": "a3975c46-530f-466d-a3b1-6e6d0c2e831a"
      },
      "source": [
        "np.eye(3)\n",
        "# output: array([[1., 0., 0.],\n",
        "#                [0., 1., 0.],\n",
        "#                [0., 0., 1.]])"
      ],
      "execution_count": 12,
      "outputs": [
        {
          "output_type": "execute_result",
          "data": {
            "text/plain": [
              "array([[1., 0., 0.],\n",
              "       [0., 1., 0.],\n",
              "       [0., 0., 1.]])"
            ]
          },
          "metadata": {
            "tags": []
          },
          "execution_count": 12
        }
      ]
    },
    {
      "cell_type": "markdown",
      "metadata": {
        "id": "ccd5H0FuJwF5"
      },
      "source": [
        "#### 9. Use NumPy to generate a random number between 0 and 1<br><br>&emsp;NOTE: Your result's value should be different from the one shown below."
      ]
    },
    {
      "cell_type": "code",
      "metadata": {
        "id": "spIyL1xaJwF5",
        "colab": {
          "base_uri": "https://localhost:8080/"
        },
        "outputId": "6d195764-a109-4273-d4fc-8d28a76b894b"
      },
      "source": [
        "np.random.rand(1)\n",
        "# output: array([0.23442116])"
      ],
      "execution_count": 23,
      "outputs": [
        {
          "output_type": "execute_result",
          "data": {
            "text/plain": [
              "array([0.98225754])"
            ]
          },
          "metadata": {
            "tags": []
          },
          "execution_count": 23
        }
      ]
    },
    {
      "cell_type": "markdown",
      "metadata": {
        "id": "dmczKgyKJwF5"
      },
      "source": [
        "#### 10. Use NumPy to generate an array of 25 random numbers sampled from a standard normal distribution<br><br>&emsp;&ensp;NOTE: Your result's values should be different from the ones shown below."
      ]
    },
    {
      "cell_type": "code",
      "metadata": {
        "id": "rEoAnIG5JwF6",
        "colab": {
          "base_uri": "https://localhost:8080/"
        },
        "outputId": "59d5955f-b7b7-45e6-8aac-4e910bf57113"
      },
      "source": [
        "np.random.normal(0, 1, 25)\n",
        "# output: array([-0.61659542, -0.77532828,  0.36213786, -1.28636974,  0.33286861,\n",
        "#                 0.06991562,  0.99519046, -1.12320101, -2.09591218, -0.99818646,\n",
        "#                -0.86720284, -1.13239342, -0.17099943, -0.76632253, -1.005097  ,\n",
        "#                -1.73123788, -1.28889203, -1.63121734, -0.32411105, -0.30448115,\n",
        "#                -0.67660156, -1.1030128 , -1.19426878,  1.10254174,  1.30879357])"
      ],
      "execution_count": 27,
      "outputs": [
        {
          "output_type": "execute_result",
          "data": {
            "text/plain": [
              "array([-0.0639446 ,  1.58395015, -0.77648571, -2.13001564, -0.16305365,\n",
              "        0.99331124, -0.35914162,  0.56950181, -0.12278334,  0.67898225,\n",
              "        0.67214401,  0.75849966,  1.08887403,  0.56919596, -0.09230404,\n",
              "       -0.54048181, -0.3585639 ,  2.6092508 ,  0.41589298, -1.12585481,\n",
              "        0.21202288, -0.12392652,  0.00309288, -1.00652081,  1.47037229])"
            ]
          },
          "metadata": {
            "tags": []
          },
          "execution_count": 27
        }
      ]
    },
    {
      "cell_type": "markdown",
      "metadata": {
        "id": "XN0P4dpfJwF7"
      },
      "source": [
        "#### 11. Create the following matrix:"
      ]
    },
    {
      "cell_type": "code",
      "metadata": {
        "id": "dSUwoGF4JwF7",
        "colab": {
          "base_uri": "https://localhost:8080/"
        },
        "outputId": "ba76dbcd-0e78-4b9b-f8d2-63986e5c9e8f"
      },
      "source": [
        "np.arange(0.01, 1.01, 1/100)\n",
        "# output: array([[0.01, 0.02, 0.03, 0.04, 0.05, 0.06, 0.07, 0.08, 0.09, 0.1 ],\n",
        "#       [0.11, 0.12, 0.13, 0.14, 0.15, 0.16, 0.17, 0.18, 0.19, 0.2 ],\n",
        "#       [0.21, 0.22, 0.23, 0.24, 0.25, 0.26, 0.27, 0.28, 0.29, 0.3 ],\n",
        "#       [0.31, 0.32, 0.33, 0.34, 0.35, 0.36, 0.37, 0.38, 0.39, 0.4 ],\n",
        "#       [0.41, 0.42, 0.43, 0.44, 0.45, 0.46, 0.47, 0.48, 0.49, 0.5 ],\n",
        "#       [0.51, 0.52, 0.53, 0.54, 0.55, 0.56, 0.57, 0.58, 0.59, 0.6 ],\n",
        "#       [0.61, 0.62, 0.63, 0.64, 0.65, 0.66, 0.67, 0.68, 0.69, 0.7 ],\n",
        "#       [0.71, 0.72, 0.73, 0.74, 0.75, 0.76, 0.77, 0.78, 0.79, 0.8 ],\n",
        "#       [0.81, 0.82, 0.83, 0.84, 0.85, 0.86, 0.87, 0.88, 0.89, 0.9 ],\n",
        "#       [0.91, 0.92, 0.93, 0.94, 0.95, 0.96, 0.97, 0.98, 0.99, 1.  ]])"
      ],
      "execution_count": 30,
      "outputs": [
        {
          "output_type": "execute_result",
          "data": {
            "text/plain": [
              "array([0.01, 0.02, 0.03, 0.04, 0.05, 0.06, 0.07, 0.08, 0.09, 0.1 , 0.11,\n",
              "       0.12, 0.13, 0.14, 0.15, 0.16, 0.17, 0.18, 0.19, 0.2 , 0.21, 0.22,\n",
              "       0.23, 0.24, 0.25, 0.26, 0.27, 0.28, 0.29, 0.3 , 0.31, 0.32, 0.33,\n",
              "       0.34, 0.35, 0.36, 0.37, 0.38, 0.39, 0.4 , 0.41, 0.42, 0.43, 0.44,\n",
              "       0.45, 0.46, 0.47, 0.48, 0.49, 0.5 , 0.51, 0.52, 0.53, 0.54, 0.55,\n",
              "       0.56, 0.57, 0.58, 0.59, 0.6 , 0.61, 0.62, 0.63, 0.64, 0.65, 0.66,\n",
              "       0.67, 0.68, 0.69, 0.7 , 0.71, 0.72, 0.73, 0.74, 0.75, 0.76, 0.77,\n",
              "       0.78, 0.79, 0.8 , 0.81, 0.82, 0.83, 0.84, 0.85, 0.86, 0.87, 0.88,\n",
              "       0.89, 0.9 , 0.91, 0.92, 0.93, 0.94, 0.95, 0.96, 0.97, 0.98, 0.99,\n",
              "       1.  ])"
            ]
          },
          "metadata": {
            "tags": []
          },
          "execution_count": 30
        }
      ]
    },
    {
      "cell_type": "markdown",
      "metadata": {
        "id": "pxptAyXeJwF8"
      },
      "source": [
        "#### 12. Create an array of 20 linearly spaced points between 0 and 1:"
      ]
    },
    {
      "cell_type": "code",
      "metadata": {
        "id": "4mYB8z28JwF8",
        "colab": {
          "base_uri": "https://localhost:8080/"
        },
        "outputId": "f57ba084-ee39-464c-f628-079feb0193cf"
      },
      "source": [
        "np.linspace(0, 1, 20)\n",
        "# output: array([0.        , 0.05263158, 0.10526316, 0.15789474, 0.21052632,\n",
        "#       0.26315789, 0.31578947, 0.36842105, 0.42105263, 0.47368421,\n",
        "#       0.52631579, 0.57894737, 0.63157895, 0.68421053, 0.73684211,\n",
        "#       0.78947368, 0.84210526, 0.89473684, 0.94736842, 1.        ])"
      ],
      "execution_count": 31,
      "outputs": [
        {
          "output_type": "execute_result",
          "data": {
            "text/plain": [
              "array([0.        , 0.05263158, 0.10526316, 0.15789474, 0.21052632,\n",
              "       0.26315789, 0.31578947, 0.36842105, 0.42105263, 0.47368421,\n",
              "       0.52631579, 0.57894737, 0.63157895, 0.68421053, 0.73684211,\n",
              "       0.78947368, 0.84210526, 0.89473684, 0.94736842, 1.        ])"
            ]
          },
          "metadata": {
            "tags": []
          },
          "execution_count": 31
        }
      ]
    },
    {
      "cell_type": "markdown",
      "metadata": {
        "id": "YFFnh76pJwF9"
      },
      "source": [
        "# Now, you will be given a starting matrix, and you will replicate the matrix outputs.\n",
        "\n",
        "##<div class=\"alert alert-danger\" style=\"margin: 10px\"><strong>IMPORTANT NOTE:</strong> Do not forget to run the cell below!"
      ]
    },
    {
      "cell_type": "code",
      "metadata": {
        "id": "QKcHWutzJwF-",
        "colab": {
          "base_uri": "https://localhost:8080/"
        },
        "outputId": "dba127dc-a0b5-4cda-97b8-285a498c35b5"
      },
      "source": [
        "# RUN THIS CELL - THIS IS OUR STARTING MATRIX\n",
        "mat = np.arange(1,26).reshape(5,5)\n",
        "mat"
      ],
      "execution_count": 32,
      "outputs": [
        {
          "output_type": "execute_result",
          "data": {
            "text/plain": [
              "array([[ 1,  2,  3,  4,  5],\n",
              "       [ 6,  7,  8,  9, 10],\n",
              "       [11, 12, 13, 14, 15],\n",
              "       [16, 17, 18, 19, 20],\n",
              "       [21, 22, 23, 24, 25]])"
            ]
          },
          "metadata": {
            "tags": []
          },
          "execution_count": 32
        }
      ]
    },
    {
      "cell_type": "markdown",
      "metadata": {
        "id": "jWrDCFirJwF-"
      },
      "source": [
        "#### 13. Write code that reproduces the output shown below.<br>"
      ]
    },
    {
      "cell_type": "code",
      "metadata": {
        "id": "1cEaWtWiJwF-",
        "colab": {
          "base_uri": "https://localhost:8080/"
        },
        "outputId": "23fc6bfb-32f1-4db3-99b0-7cd4b7c9af2d"
      },
      "source": [
        "mat[np.ix_([2,3,4], [1,2,3,4])]\n",
        "# output: array([[12, 13, 14, 15],\n",
        "#       [17, 18, 19, 20],\n",
        "#       [22, 23, 24, 25]])"
      ],
      "execution_count": 55,
      "outputs": [
        {
          "output_type": "execute_result",
          "data": {
            "text/plain": [
              "array([[12, 13, 14, 15],\n",
              "       [17, 18, 19, 20],\n",
              "       [22, 23, 24, 25]])"
            ]
          },
          "metadata": {
            "tags": []
          },
          "execution_count": 55
        }
      ]
    },
    {
      "cell_type": "markdown",
      "metadata": {
        "id": "3Mg1S4BiJwF-"
      },
      "source": [
        "#### 14. Write code that reproduces the output shown below."
      ]
    },
    {
      "cell_type": "code",
      "metadata": {
        "id": "Wm5iobriJwF_",
        "colab": {
          "base_uri": "https://localhost:8080/"
        },
        "outputId": "12ab55e9-2805-4f12-e9dc-d6bc0352f7cf"
      },
      "source": [
        "mat[3,4]\n",
        "\n",
        "# output: 20"
      ],
      "execution_count": 56,
      "outputs": [
        {
          "output_type": "execute_result",
          "data": {
            "text/plain": [
              "20"
            ]
          },
          "metadata": {
            "tags": []
          },
          "execution_count": 56
        }
      ]
    },
    {
      "cell_type": "markdown",
      "metadata": {
        "id": "YOolhUoxJwGA"
      },
      "source": [
        "#### 15. Write code that reproduces the output shown below."
      ]
    },
    {
      "cell_type": "code",
      "metadata": {
        "id": "3nFqWmvAJwGA",
        "colab": {
          "base_uri": "https://localhost:8080/"
        },
        "outputId": "6bdb6382-29be-41dc-bfe4-e9be7b512e33"
      },
      "source": [
        "mat[np.ix_([0,1,2], [1])]\n",
        "# array([[ 2],\n",
        "#       [ 7],\n",
        "#       [12]])"
      ],
      "execution_count": 57,
      "outputs": [
        {
          "output_type": "execute_result",
          "data": {
            "text/plain": [
              "array([[ 2],\n",
              "       [ 7],\n",
              "       [12]])"
            ]
          },
          "metadata": {
            "tags": []
          },
          "execution_count": 57
        }
      ]
    },
    {
      "cell_type": "markdown",
      "metadata": {
        "id": "-355bsw0JwGC"
      },
      "source": [
        "#### 16. Write code that reproduces the output shown below."
      ]
    },
    {
      "cell_type": "code",
      "metadata": {
        "id": "LA1YaXK9JwGC",
        "colab": {
          "base_uri": "https://localhost:8080/"
        },
        "outputId": "d4f1c2f1-0e2d-46c9-cf6e-fafa1a712be7"
      },
      "source": [
        "mat[4]\n",
        "# output: array([21, 22, 23, 24, 25])"
      ],
      "execution_count": 58,
      "outputs": [
        {
          "output_type": "execute_result",
          "data": {
            "text/plain": [
              "array([21, 22, 23, 24, 25])"
            ]
          },
          "metadata": {
            "tags": []
          },
          "execution_count": 58
        }
      ]
    },
    {
      "cell_type": "markdown",
      "metadata": {
        "id": "XcrErRAiJwGG"
      },
      "source": [
        "#### 17. Write code that reproduces the output shown below."
      ]
    },
    {
      "cell_type": "code",
      "metadata": {
        "id": "HC4NfFM-JwGG",
        "colab": {
          "base_uri": "https://localhost:8080/"
        },
        "outputId": "772d4f5a-acd9-4330-e806-4456ce0c4cd4"
      },
      "source": [
        "mat[3:5]\n",
        "# output: array([[16, 17, 18, 19, 20],\n",
        "#       [21, 22, 23, 24, 25]])"
      ],
      "execution_count": 61,
      "outputs": [
        {
          "output_type": "execute_result",
          "data": {
            "text/plain": [
              "array([[16, 17, 18, 19, 20],\n",
              "       [21, 22, 23, 24, 25]])"
            ]
          },
          "metadata": {
            "tags": []
          },
          "execution_count": 61
        }
      ]
    },
    {
      "cell_type": "markdown",
      "metadata": {
        "id": "2kKlrU9YJwGI"
      },
      "source": [
        "#### 18. Get the sum of all the values in mat"
      ]
    },
    {
      "cell_type": "code",
      "metadata": {
        "id": "gWQ4nNHOJwGJ",
        "colab": {
          "base_uri": "https://localhost:8080/"
        },
        "outputId": "9c8ee88e-a343-4ebc-c402-bc002aa54fca"
      },
      "source": [
        "mat.sum()\n",
        "# output: 325"
      ],
      "execution_count": 63,
      "outputs": [
        {
          "output_type": "execute_result",
          "data": {
            "text/plain": [
              "325"
            ]
          },
          "metadata": {
            "tags": []
          },
          "execution_count": 63
        }
      ]
    },
    {
      "cell_type": "markdown",
      "metadata": {
        "id": "_hfdvtu4JwGK"
      },
      "source": [
        "#### 19. Get the standard deviation of the values in mat"
      ]
    },
    {
      "cell_type": "code",
      "metadata": {
        "id": "tBpF8bK7JwGK",
        "colab": {
          "base_uri": "https://localhost:8080/"
        },
        "outputId": "f2f7e584-447e-4957-c739-88f81d19ca1b"
      },
      "source": [
        "mat.std()\n",
        "# output: 7.211102550927978"
      ],
      "execution_count": 67,
      "outputs": [
        {
          "output_type": "execute_result",
          "data": {
            "text/plain": [
              "7.211102550927978"
            ]
          },
          "metadata": {
            "tags": []
          },
          "execution_count": 67
        }
      ]
    },
    {
      "cell_type": "markdown",
      "metadata": {
        "id": "tW4cvjYpJwGK"
      },
      "source": [
        "#### 20. Get the sum of all the columns in mat"
      ]
    },
    {
      "cell_type": "code",
      "metadata": {
        "id": "pF3MxsUPJwGK",
        "colab": {
          "base_uri": "https://localhost:8080/"
        },
        "outputId": "666fe95f-3b31-4ae9-8fee-4b3dd0553fcd"
      },
      "source": [
        "mat.sum(axis=0)\n",
        "# output: array([55, 60, 65, 70, 75])"
      ],
      "execution_count": 68,
      "outputs": [
        {
          "output_type": "execute_result",
          "data": {
            "text/plain": [
              "array([55, 60, 65, 70, 75])"
            ]
          },
          "metadata": {
            "tags": []
          },
          "execution_count": 68
        }
      ]
    }
  ]
}